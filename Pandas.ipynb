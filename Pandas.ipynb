{
  "nbformat": 4,
  "nbformat_minor": 0,
  "metadata": {
    "colab": {
      "provenance": [],
      "authorship_tag": "ABX9TyNt6ftKA7AMRU339Q72Lxu/",
      "include_colab_link": true
    },
    "kernelspec": {
      "name": "python3",
      "display_name": "Python 3"
    },
    "language_info": {
      "name": "python"
    }
  },
  "cells": [
    {
      "cell_type": "markdown",
      "metadata": {
        "id": "view-in-github",
        "colab_type": "text"
      },
      "source": [
        "<a href=\"https://colab.research.google.com/github/labib1910024/ECE_4246_Neural_Networks/blob/main/Pandas.ipynb\" target=\"_parent\"><img src=\"https://colab.research.google.com/assets/colab-badge.svg\" alt=\"Open In Colab\"/></a>"
      ]
    },
    {
      "cell_type": "code",
      "execution_count": 2,
      "metadata": {
        "colab": {
          "base_uri": "https://localhost:8080/"
        },
        "id": "smgcpdpAc7Ic",
        "outputId": "690624f7-d536-4ce8-bde2-9a33475000cb"
      },
      "outputs": [
        {
          "output_type": "stream",
          "name": "stdout",
          "text": [
            "DataFrame:\n",
            "      Name  Age  Salary\n",
            "0    Alice   25   50000\n",
            "1      Bob   30   60000\n",
            "2  Charlie   35   70000\n"
          ]
        }
      ],
      "source": [
        "import pandas as pd\n",
        "\n",
        "# 1. Creating a DataFrame\n",
        "data = {\n",
        "    'Name': ['Alice', 'Bob', 'Charlie'],\n",
        "    'Age': [25, 30, 35],\n",
        "    'Salary': [50000, 60000, 70000]\n",
        "}\n",
        "df = pd.DataFrame(data)\n",
        "\n",
        "print(\"DataFrame:\")\n",
        "print(df)"
      ]
    },
    {
      "cell_type": "code",
      "source": [
        "# 2. Accessing Data\n",
        "print(\"\\nColumn Access:\")\n",
        "print(df['Name'])  # Access a single column\n",
        "\n",
        "print(\"\\nRow Access (iloc):\")\n",
        "print(df.iloc[0])  # Access the first row (by position)\n",
        "\n",
        "print(\"\\nRow Access (loc):\")\n",
        "print(df.loc[0])  # Access the first row (by index)"
      ],
      "metadata": {
        "colab": {
          "base_uri": "https://localhost:8080/"
        },
        "id": "mjq_zVv6dSK3",
        "outputId": "0b0795e5-cfab-4db9-a869-c53037bdffe2"
      },
      "execution_count": 3,
      "outputs": [
        {
          "output_type": "stream",
          "name": "stdout",
          "text": [
            "\n",
            "Column Access:\n",
            "0      Alice\n",
            "1        Bob\n",
            "2    Charlie\n",
            "Name: Name, dtype: object\n",
            "\n",
            "Row Access (iloc):\n",
            "Name      Alice\n",
            "Age          25\n",
            "Salary    50000\n",
            "Name: 0, dtype: object\n",
            "\n",
            "Row Access (loc):\n",
            "Name      Alice\n",
            "Age          25\n",
            "Salary    50000\n",
            "Name: 0, dtype: object\n"
          ]
        }
      ]
    },
    {
      "cell_type": "code",
      "source": [
        "# 3. Filtering Data\n",
        "filtered_df = df[df['Age'] > 25]\n",
        "print(\"\\nFiltered DataFrame (Age > 25):\")\n",
        "print(filtered_df)"
      ],
      "metadata": {
        "colab": {
          "base_uri": "https://localhost:8080/"
        },
        "id": "b-q92QmzdXx3",
        "outputId": "203acf7d-5eea-40b3-e96a-95b1c8b8981f"
      },
      "execution_count": 4,
      "outputs": [
        {
          "output_type": "stream",
          "name": "stdout",
          "text": [
            "\n",
            "Filtered DataFrame (Age > 25):\n",
            "      Name  Age  Salary\n",
            "1      Bob   30   60000\n",
            "2  Charlie   35   70000\n"
          ]
        }
      ]
    },
    {
      "cell_type": "code",
      "source": [
        "# 4. Adding a New Column\n",
        "df['Department'] = ['HR', 'IT', 'Finance']\n",
        "print(\"\\nDataFrame with New Column:\")\n",
        "print(df)"
      ],
      "metadata": {
        "colab": {
          "base_uri": "https://localhost:8080/"
        },
        "id": "xTmnCLC-di9b",
        "outputId": "1111d43b-9745-47b8-8018-be05ac8301e3"
      },
      "execution_count": 6,
      "outputs": [
        {
          "output_type": "stream",
          "name": "stdout",
          "text": [
            "\n",
            "DataFrame with New Column:\n",
            "      Name  Age  Salary Department\n",
            "0    Alice   25   50000         HR\n",
            "1      Bob   30   60000         IT\n",
            "2  Charlie   35   70000    Finance\n"
          ]
        }
      ]
    },
    {
      "cell_type": "code",
      "source": [
        "# 5. Modifying Data\n",
        "df.loc[1, 'Salary'] = 65000  # Update a specific cell\n",
        "print(\"\\nDataFrame after Modifying Salary:\")\n",
        "print(df)"
      ],
      "metadata": {
        "colab": {
          "base_uri": "https://localhost:8080/"
        },
        "id": "36Ax4UCcdi_Y",
        "outputId": "ec5dc381-5704-4169-f22f-67baea36afe7"
      },
      "execution_count": 7,
      "outputs": [
        {
          "output_type": "stream",
          "name": "stdout",
          "text": [
            "\n",
            "DataFrame after Modifying Salary:\n",
            "      Name  Age  Salary Department\n",
            "0    Alice   25   50000         HR\n",
            "1      Bob   30   65000         IT\n",
            "2  Charlie   35   70000    Finance\n"
          ]
        }
      ]
    },
    {
      "cell_type": "code",
      "source": [
        "# 6. Deleting a Column\n",
        "df = df.drop('Department', axis=1)\n",
        "print(\"\\nDataFrame after Deleting Department Column:\")\n",
        "print(df)"
      ],
      "metadata": {
        "colab": {
          "base_uri": "https://localhost:8080/"
        },
        "id": "KEutC3-BdjDR",
        "outputId": "d56c841e-078c-494f-e681-bb470b889de2"
      },
      "execution_count": 8,
      "outputs": [
        {
          "output_type": "stream",
          "name": "stdout",
          "text": [
            "\n",
            "DataFrame after Deleting Department Column:\n",
            "      Name  Age  Salary\n",
            "0    Alice   25   50000\n",
            "1      Bob   30   65000\n",
            "2  Charlie   35   70000\n"
          ]
        }
      ]
    },
    {
      "cell_type": "code",
      "source": [
        "# 7. Sorting Data\n",
        "sorted_df = df.sort_values(by='Salary', ascending=False)\n",
        "print(\"\\nSorted DataFrame by Salary (Descending):\")\n",
        "print(sorted_df)"
      ],
      "metadata": {
        "colab": {
          "base_uri": "https://localhost:8080/"
        },
        "id": "X2ltyMHhdjFX",
        "outputId": "32bc2861-d213-4326-d058-5adda52a9e0b"
      },
      "execution_count": 9,
      "outputs": [
        {
          "output_type": "stream",
          "name": "stdout",
          "text": [
            "\n",
            "Sorted DataFrame by Salary (Descending):\n",
            "      Name  Age  Salary\n",
            "2  Charlie   35   70000\n",
            "1      Bob   30   65000\n",
            "0    Alice   25   50000\n"
          ]
        }
      ]
    },
    {
      "cell_type": "code",
      "source": [
        "# 8. Descriptive Statistics\n",
        "print(\"\\nDescriptive Statistics:\")\n",
        "print(df.describe())"
      ],
      "metadata": {
        "colab": {
          "base_uri": "https://localhost:8080/"
        },
        "id": "JTAWE10jdjIx",
        "outputId": "2a5c63b7-eeae-4920-f140-68aa565eeab0"
      },
      "execution_count": 10,
      "outputs": [
        {
          "output_type": "stream",
          "name": "stdout",
          "text": [
            "\n",
            "Descriptive Statistics:\n",
            "        Age        Salary\n",
            "count   3.0      3.000000\n",
            "mean   30.0  61666.666667\n",
            "std     5.0  10408.329997\n",
            "min    25.0  50000.000000\n",
            "25%    27.5  57500.000000\n",
            "50%    30.0  65000.000000\n",
            "75%    32.5  67500.000000\n",
            "max    35.0  70000.000000\n"
          ]
        }
      ]
    },
    {
      "cell_type": "code",
      "source": [
        "# 9. Handling Missing Data\n",
        "df.loc[3] = ['David', None, 45000]  # Add a row with a missing value\n",
        "print(\"\\nDataFrame with Missing Value:\")\n",
        "print(df)\n",
        "\n",
        "# Fill missing values\n",
        "df['Age'] = df['Age'].fillna(df['Age'].mean())  # Fill missing Age with the mean\n",
        "print(\"\\nDataFrame after Filling Missing Values:\")\n",
        "print(df)\n",
        "\n"
      ],
      "metadata": {
        "colab": {
          "base_uri": "https://localhost:8080/"
        },
        "id": "5GovOnP3djKq",
        "outputId": "0759307d-c98d-45d1-dc59-3fc805b62964"
      },
      "execution_count": 13,
      "outputs": [
        {
          "output_type": "stream",
          "name": "stdout",
          "text": [
            "\n",
            "DataFrame with Missing Value:\n",
            "      Name   Age  Salary\n",
            "0    Alice  25.0   50000\n",
            "1      Bob  30.0   65000\n",
            "2  Charlie  35.0   70000\n",
            "3    David   NaN   45000\n",
            "\n",
            "DataFrame after Filling Missing Values:\n",
            "      Name   Age  Salary\n",
            "0    Alice  25.0   50000\n",
            "1      Bob  30.0   65000\n",
            "2  Charlie  35.0   70000\n",
            "3    David  30.0   45000\n"
          ]
        }
      ]
    },
    {
      "cell_type": "code",
      "source": [
        "# 10. Exporting and Importing Data\n",
        "df.to_csv('data.csv', index=False)  # Save DataFrame to a CSV file\n",
        "print(\"\\nDataFrame saved to 'data.csv'.\")\n",
        "\n",
        "# Import DataFrame from CSV\n",
        "loaded_df = pd.read_csv('data.csv')\n",
        "print(\"\\nLoaded DataFrame from 'data.csv':\")\n",
        "print(loaded_df)"
      ],
      "metadata": {
        "colab": {
          "base_uri": "https://localhost:8080/"
        },
        "id": "aMZuYmN1djN0",
        "outputId": "a9321ae1-480a-4ff3-c170-ebb99090ead1"
      },
      "execution_count": 12,
      "outputs": [
        {
          "output_type": "stream",
          "name": "stdout",
          "text": [
            "\n",
            "DataFrame saved to 'data.csv'.\n",
            "\n",
            "Loaded DataFrame from 'data.csv':\n",
            "      Name   Age  Salary\n",
            "0    Alice  25.0   50000\n",
            "1      Bob  30.0   65000\n",
            "2  Charlie  35.0   70000\n",
            "3    David  30.0   45000\n"
          ]
        }
      ]
    },
    {
      "cell_type": "code",
      "source": [],
      "metadata": {
        "id": "z1jAM_YVdjQr"
      },
      "execution_count": null,
      "outputs": []
    }
  ]
}