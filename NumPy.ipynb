{
  "nbformat": 4,
  "nbformat_minor": 0,
  "metadata": {
    "colab": {
      "provenance": [],
      "authorship_tag": "ABX9TyPvQzVH/VBQbYQgtGpSl/61",
      "include_colab_link": true
    },
    "kernelspec": {
      "name": "python3",
      "display_name": "Python 3"
    },
    "language_info": {
      "name": "python"
    }
  },
  "cells": [
    {
      "cell_type": "markdown",
      "metadata": {
        "id": "view-in-github",
        "colab_type": "text"
      },
      "source": [
        "<a href=\"https://colab.research.google.com/github/labib1910024/ECE_4246_Neural_Networks/blob/main/NumPy.ipynb\" target=\"_parent\"><img src=\"https://colab.research.google.com/assets/colab-badge.svg\" alt=\"Open In Colab\"/></a>"
      ]
    },
    {
      "cell_type": "code",
      "execution_count": null,
      "metadata": {
        "colab": {
          "base_uri": "https://localhost:8080/"
        },
        "id": "Cpo8X0JoXjt9",
        "outputId": "422b43c9-bf27-4c5d-d193-3ebbadf1f624"
      },
      "outputs": [
        {
          "output_type": "stream",
          "name": "stdout",
          "text": [
            "1D Array:\n",
            "[1 2 3]\n",
            "\n",
            "2D Array:\n",
            "[[1 2 3]\n",
            " [4 5 6]]\n"
          ]
        }
      ],
      "source": [
        "import numpy as np\n",
        "\n",
        "# 1. Creating NumPy Arrays\n",
        "array_1d = np.array([1, 2, 3])\n",
        "array_2d = np.array([[1, 2, 3], [4, 5, 6]])\n",
        "\n",
        "print(\"1D Array:\")\n",
        "print(array_1d)\n",
        "\n",
        "print(\"\\n2D Array:\")\n",
        "print(array_2d)\n",
        "\n"
      ]
    },
    {
      "cell_type": "code",
      "source": [
        "# 2. Array Properties\n",
        "print(\"\\nArray Shape:\", array_2d.shape)\n",
        "print(\"Array Size:\", array_2d.size)\n",
        "print(\"Array Data Type:\", array_2d.dtype)"
      ],
      "metadata": {
        "colab": {
          "base_uri": "https://localhost:8080/"
        },
        "id": "5WL4QiYyXz_p",
        "outputId": "6cb8f88f-efb2-4f83-d483-021ea3342ec0"
      },
      "execution_count": null,
      "outputs": [
        {
          "output_type": "stream",
          "name": "stdout",
          "text": [
            "\n",
            "Array Shape: (2, 3)\n",
            "Array Size: 6\n",
            "Array Data Type: int64\n"
          ]
        }
      ]
    },
    {
      "cell_type": "code",
      "source": [
        "# 3. Array Initialization\n",
        "zeros = np.zeros((2, 3))  # 2x3 array of zeros\n",
        "ones = np.ones((2, 3))  # 2x3 array of ones\n",
        "random_values = np.random.rand(2, 3)  # 2x3 array of random values\n",
        "\n",
        "print(\"\\nZeros Array:\")\n",
        "print(zeros)\n",
        "\n",
        "print(\"\\nOnes Array:\")\n",
        "print(ones)\n",
        "\n",
        "print(\"\\nRandom Values Array:\")\n",
        "print(random_values)"
      ],
      "metadata": {
        "colab": {
          "base_uri": "https://localhost:8080/"
        },
        "id": "mPPazQfkX0O0",
        "outputId": "ff3fb1e2-6c6f-4661-825b-33eea7cee0aa"
      },
      "execution_count": null,
      "outputs": [
        {
          "output_type": "stream",
          "name": "stdout",
          "text": [
            "\n",
            "Zeros Array:\n",
            "[[0. 0. 0.]\n",
            " [0. 0. 0.]]\n",
            "\n",
            "Ones Array:\n",
            "[[1. 1. 1.]\n",
            " [1. 1. 1.]]\n",
            "\n",
            "Random Values Array:\n",
            "[[0.01028168 0.0772549  0.34723863]\n",
            " [0.20431668 0.13626864 0.17305129]]\n"
          ]
        }
      ]
    },
    {
      "cell_type": "code",
      "source": [
        "# 4. Basic Operations\n",
        "array_a = np.array([1, 2, 3])\n",
        "array_b = np.array([4, 5, 6])\n",
        "\n",
        "print(\"\\nAddition:\", array_a + array_b)\n",
        "print(\"Subtraction:\", array_a - array_b)\n",
        "print(\"Multiplication:\", array_a * array_b)\n",
        "print(\"Division:\", array_a / array_b)"
      ],
      "metadata": {
        "colab": {
          "base_uri": "https://localhost:8080/"
        },
        "id": "kRZDOMyvX0Qm",
        "outputId": "d387cd0b-4666-48df-f68e-7c2cf50074fa"
      },
      "execution_count": null,
      "outputs": [
        {
          "output_type": "stream",
          "name": "stdout",
          "text": [
            "\n",
            "Addition: [5 7 9]\n",
            "Subtraction: [-3 -3 -3]\n",
            "Multiplication: [ 4 10 18]\n",
            "Division: [0.25 0.4  0.5 ]\n"
          ]
        }
      ]
    },
    {
      "cell_type": "code",
      "source": [
        "# 5. Indexing and Slicing\n",
        "array = np.array([10, 20, 30, 40, 50])\n",
        "\n",
        "print(\"\\nFirst Element:\", array[0])\n",
        "print(\"Last Element:\", array[-1])\n",
        "print(\"Sliced Array (index 1 to 3):\", array[1:4])"
      ],
      "metadata": {
        "colab": {
          "base_uri": "https://localhost:8080/"
        },
        "id": "TbfQnT6_X0UO",
        "outputId": "b95644e1-6a5f-413e-e021-ec2ad271cc2e"
      },
      "execution_count": null,
      "outputs": [
        {
          "output_type": "stream",
          "name": "stdout",
          "text": [
            "\n",
            "First Element: 10\n",
            "Last Element: 50\n",
            "Sliced Array (index 1 to 3): [20 30 40]\n"
          ]
        }
      ]
    },
    {
      "cell_type": "code",
      "source": [
        "# 6. Mathematical Functions\n",
        "angles = np.array([0, np.pi / 2, np.pi])\n",
        "\n",
        "print(\"\\nSine of angles:\", np.sin(angles))\n",
        "print(\"Cosine of angles:\", np.cos(angles))"
      ],
      "metadata": {
        "colab": {
          "base_uri": "https://localhost:8080/"
        },
        "id": "_rpnoEaHX0V7",
        "outputId": "0a618f5c-1349-4d55-a1fa-290c18c0d2a9"
      },
      "execution_count": null,
      "outputs": [
        {
          "output_type": "stream",
          "name": "stdout",
          "text": [
            "\n",
            "Sine of angles: [0.0000000e+00 1.0000000e+00 1.2246468e-16]\n",
            "Cosine of angles: [ 1.000000e+00  6.123234e-17 -1.000000e+00]\n"
          ]
        }
      ]
    },
    {
      "cell_type": "code",
      "source": [
        "# 7. Reshaping Arrays\n",
        "reshaped_array = array_2d.reshape(3, 2)  # Change 2x3 array to 3x2\n",
        "print(\"\\nReshaped Array:\")\n",
        "print(reshaped_array)"
      ],
      "metadata": {
        "colab": {
          "base_uri": "https://localhost:8080/"
        },
        "id": "LY8Qpfv3X0ZV",
        "outputId": "a252fc80-c7aa-4fbf-89ef-b3c1fe5a8d3c"
      },
      "execution_count": null,
      "outputs": [
        {
          "output_type": "stream",
          "name": "stdout",
          "text": [
            "\n",
            "Reshaped Array:\n",
            "[[1 2]\n",
            " [3 4]\n",
            " [5 6]]\n"
          ]
        }
      ]
    },
    {
      "cell_type": "code",
      "source": [
        "# 8. Aggregation Functions\n",
        "print(\"\\nSum:\", np.sum(array_2d))\n",
        "print(\"Mean:\", np.mean(array_2d))\n",
        "print(\"Maximum:\", np.max(array_2d))\n",
        "print(\"Minimum:\", np.min(array_2d))"
      ],
      "metadata": {
        "colab": {
          "base_uri": "https://localhost:8080/"
        },
        "id": "3MsXMU9tX0cR",
        "outputId": "90078537-b9fa-485b-9750-0b9677cbb847"
      },
      "execution_count": null,
      "outputs": [
        {
          "output_type": "stream",
          "name": "stdout",
          "text": [
            "\n",
            "Sum: 21\n",
            "Mean: 3.5\n",
            "Maximum: 6\n",
            "Minimum: 1\n"
          ]
        }
      ]
    },
    {
      "cell_type": "code",
      "source": [
        "# 9. Broadcasting\n",
        "scalar = 10\n",
        "print(\"\\nArray after adding scalar 10:\")\n",
        "print(array_2d + scalar)"
      ],
      "metadata": {
        "colab": {
          "base_uri": "https://localhost:8080/"
        },
        "id": "xrvfDwE-ZM-5",
        "outputId": "a8d0f3eb-588b-4920-b4e9-0a3f716b73df"
      },
      "execution_count": null,
      "outputs": [
        {
          "output_type": "stream",
          "name": "stdout",
          "text": [
            "\n",
            "Array after adding scalar 10:\n",
            "[[11 12 13]\n",
            " [14 15 16]]\n"
          ]
        }
      ]
    }
  ]
}